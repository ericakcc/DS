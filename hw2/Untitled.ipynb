{
 "cells": [
  {
   "cell_type": "code",
   "execution_count": 1,
   "metadata": {
    "collapsed": true
   },
   "outputs": [],
   "source": [
    "class Stack(object):\n",
    "    \n",
    "    def __init__(self):\n",
    "        self.items = []\n",
    "        \n",
    "    def isEmpty(self):\n",
    "        return self.items == []\n",
    "    \n",
    "    def push(self,item):\n",
    "        self.items.append(item)\n",
    "        \n",
    "    def pop(self):\n",
    "        return self.items.pop()\n",
    "    \n",
    "    def peek(self):\n",
    "        return self.items[len(self.items)-1]\n",
    "    \n",
    "    def size(self):\n",
    "        return len(self.items)"
   ]
  },
  {
   "cell_type": "code",
   "execution_count": 44,
   "metadata": {},
   "outputs": [],
   "source": [
    "def find_max_idex(lst, i):\n",
    "    sorted_lst = list(set(sorted(lst)))\n",
    "    m = sorted_lst[-i]\n",
    "    idx = lst.index(m)\n",
    "    return idx"
   ]
  },
  {
   "cell_type": "code",
   "execution_count": 42,
   "metadata": {
    "collapsed": true
   },
   "outputs": [],
   "source": [
    "def min_tall_size(lst):\n",
    "    l = len(lst)\n",
    "    tall = min(lst)\n",
    "    return l*tall"
   ]
  },
  {
   "cell_type": "code",
   "execution_count": 138,
   "metadata": {},
   "outputs": [
    {
     "data": {
      "text/plain": [
       "5"
      ]
     },
     "execution_count": 138,
     "metadata": {},
     "output_type": "execute_result"
    }
   ],
   "source": [
    "a = [2,1,5,6,2,3]\n",
    "b = [13,15,2,17,10,4]\n",
    "c = [14,5,4,10,13,20,4,8,18,7]"
   ]
  },
  {
   "cell_type": "code",
   "execution_count": null,
   "metadata": {
    "collapsed": true
   },
   "outputs": [],
   "source": [
    "def stack_size(stack):\n",
    "    "
   ]
  },
  {
   "cell_type": "code",
   "execution_count": 150,
   "metadata": {},
   "outputs": [],
   "source": [
    "def board_stack(lst,number_of_big):\n",
    "    s = Stack()\n",
    "    #right of lst\n",
    "    start_idx = find_max_idex(lst,number_of_big)\n",
    "    s.push(lst[find_max_idex(lst,number_of_big)])\n",
    "    try:\n",
    "        while (s.size()+1)*lst[start_idx+1] > (min(s.items)*s.size()):\n",
    "            start_idx += 1\n",
    "            s.push(lst[start_idx])\n",
    "            print(s.items)\n",
    "    except (IndexError):\n",
    "        pass\n",
    "    \n",
    "    #left of lst\n",
    "    start_idx = find_max_idex(lst,number_of_big)\n",
    "\n",
    "    try:\n",
    "        while (s.size()+1)*(lst[start_idx-1]) > (min(s.items)*s.size()):\n",
    "            start_idx -= 1\n",
    "            if start_idx < 0:\n",
    "                break\n",
    "            s.push(lst[start_idx])\n",
    "    except (IndexError):\n",
    "        pass    \n",
    "\n",
    "    return min(s.items)*s.size()\n",
    "    "
   ]
  },
  {
   "cell_type": "code",
   "execution_count": 151,
   "metadata": {},
   "outputs": [
    {
     "name": "stdout",
     "output_type": "stream",
     "text": [
      "[5, 4]\n",
      "[5, 4, 10]\n",
      "[5, 4, 10, 13]\n",
      "[5, 4, 10, 13, 20]\n",
      "[5, 4, 10, 13, 20, 4]\n",
      "[5, 4, 10, 13, 20, 4, 8]\n",
      "[5, 4, 10, 13, 20, 4, 8, 18]\n",
      "[5, 4, 10, 13, 20, 4, 8, 18, 7]\n",
      "1\n",
      "[5, 4, 10, 13, 20, 4, 8, 18, 7]\n",
      "1\n",
      "[5, 4, 10, 13, 20, 4, 8, 18, 7, 14]\n",
      "0\n"
     ]
    },
    {
     "data": {
      "text/plain": [
       "40"
      ]
     },
     "execution_count": 151,
     "metadata": {},
     "output_type": "execute_result"
    }
   ],
   "source": [
    "board_stack(c,8)"
   ]
  },
  {
   "cell_type": "code",
   "execution_count": 118,
   "metadata": {
    "collapsed": true
   },
   "outputs": [],
   "source": [
    "def board_size(lst):\n",
    "    big_size = 0\n",
    "    base_size = min_tall_size(lst)\n",
    "    stack_size = 0\n",
    "    for i in range(1,len(set(lst))):\n",
    "        new_size = board_stack(lst,i)\n",
    "        print(new_size)\n",
    "        if new_size > stack_size:\n",
    "            stack_size = new_size\n",
    "    \n",
    "    if stack_size > base_size:\n",
    "        big_size = stack_size\n",
    "    else :\n",
    "        big_size = base_size\n",
    "    \n",
    "    return big_size"
   ]
  },
  {
   "cell_type": "code",
   "execution_count": 152,
   "metadata": {},
   "outputs": [
    {
     "name": "stdout",
     "output_type": "stream",
     "text": [
      "5\n",
      "[20]\n",
      "5\n",
      "[20, 13]\n",
      "4\n",
      "30\n",
      "8\n",
      "18\n",
      "0\n",
      "14\n",
      "[13, 20]\n",
      "4\n",
      "[13, 20]\n",
      "4\n",
      "30\n",
      "[10, 13]\n",
      "[10, 13, 20]\n",
      "3\n",
      "30\n",
      "[8, 18]\n",
      "[8, 18, 7]\n",
      "7\n",
      "21\n",
      "9\n",
      "[7]\n",
      "9\n",
      "[7, 18]\n",
      "8\n",
      "21\n",
      "[5, 4]\n",
      "[5, 4, 10]\n",
      "[5, 4, 10, 13]\n",
      "[5, 4, 10, 13, 20]\n",
      "[5, 4, 10, 13, 20, 4]\n",
      "[5, 4, 10, 13, 20, 4, 8]\n",
      "[5, 4, 10, 13, 20, 4, 8, 18]\n",
      "[5, 4, 10, 13, 20, 4, 8, 18, 7]\n",
      "1\n",
      "[5, 4, 10, 13, 20, 4, 8, 18, 7]\n",
      "1\n",
      "[5, 4, 10, 13, 20, 4, 8, 18, 7, 14]\n",
      "0\n",
      "40\n"
     ]
    },
    {
     "data": {
      "text/plain": [
       "40"
      ]
     },
     "execution_count": 152,
     "metadata": {},
     "output_type": "execute_result"
    }
   ],
   "source": [
    "board_size(c)"
   ]
  },
  {
   "cell_type": "code",
   "execution_count": null,
   "metadata": {
    "collapsed": true
   },
   "outputs": [],
   "source": []
  }
 ],
 "metadata": {
  "kernelspec": {
   "display_name": "Python 3",
   "language": "python",
   "name": "python3"
  },
  "language_info": {
   "codemirror_mode": {
    "name": "ipython",
    "version": 3
   },
   "file_extension": ".py",
   "mimetype": "text/x-python",
   "name": "python",
   "nbconvert_exporter": "python",
   "pygments_lexer": "ipython3",
   "version": "3.6.2"
  }
 },
 "nbformat": 4,
 "nbformat_minor": 2
}
