{
 "cells": [
  {
   "cell_type": "code",
   "execution_count": 1,
   "metadata": {
    "collapsed": true
   },
   "outputs": [],
   "source": [
    "class Stack(object):\n",
    "    \n",
    "    def __init__(self):\n",
    "        self.items = []\n",
    "        \n",
    "    def isEmpty(self):\n",
    "        return self.items == []\n",
    "    \n",
    "    def push(self,item):\n",
    "        self.items.append(item)\n",
    "        \n",
    "    def pop(self):\n",
    "        return self.items.pop()\n",
    "    \n",
    "    def peek(self):\n",
    "        return self.items[len(self.items)-1]\n",
    "    \n",
    "    def size(self):\n",
    "        return len(self.items)"
   ]
  },
  {
   "cell_type": "code",
   "execution_count": 3,
   "metadata": {
    "collapsed": false
   },
   "outputs": [],
   "source": [
    "def find_max_area(lst,n):\n",
    "    # find the maximum area under given historgram with n bars\n",
    "    \n",
    "    s = Stack() # empty stack\n",
    "    max_area = 0 # initalize max area\n",
    "    i=0\n",
    "    while i < n:\n",
    "        # if this bar is higher than the bar on top stack, push it to stack\n",
    "        if s.isEmpty() or lst[s.peek()-1] <= lst[i] :\n",
    "            i += 1\n",
    "            s.push(i)\n",
    "        else :\n",
    "            tp = s.peek()-1\n",
    "            s.pop()\n",
    "            area_with_top = lst[tp] * (i if s.isEmpty() else i - s.peek())\n",
    "            \n",
    "            if max_area < area_with_top:\n",
    "                max_area = area_with_top\n",
    "                \n",
    "    while s.isEmpty() == False:\n",
    "        tp = s.peek()-1\n",
    "        s.pop()\n",
    "        area_with_top = lst[tp] * (i if s.isEmpty() else (i -s.peek()))\n",
    "        \n",
    "        if max_area < area_with_top:\n",
    "            max_area = area_with_top        \n",
    "        \n",
    "        \n",
    "    return max_area"
   ]
  },
  {
   "cell_type": "code",
   "execution_count": 2,
   "metadata": {
    "collapsed": true
   },
   "outputs": [],
   "source": [
    "a = [2,1,5,6,2,3]\n",
    "b = [13,15,2,17,10,4]\n",
    "c = [14,5,4,10,13,20,4,8,18,7]"
   ]
  },
  {
   "cell_type": "code",
   "execution_count": 6,
   "metadata": {
    "collapsed": false
   },
   "outputs": [
    {
     "data": {
      "text/plain": [
       "40"
      ]
     },
     "execution_count": 6,
     "metadata": {},
     "output_type": "execute_result"
    }
   ],
   "source": [
    "find_max_area(c,len(c))"
   ]
  },
  {
   "cell_type": "code",
   "execution_count": 17,
   "metadata": {
    "collapsed": false
   },
   "outputs": [],
   "source": [
    "f1 = open('./Input','r')\n",
    "f2 = open('out','w+')\n",
    "\n",
    "data = f1.readlines()\n",
    "for row in data:\n",
    "    #print(row)\n",
    "    input_ = list(map(int,row.split(',')))\n",
    "    output = find_max_area(input_,len(input_))\n",
    "    f2.write(str(output)+'\\n')\n",
    "f1.close()\n",
    "f2.close()"
   ]
  },
  {
   "cell_type": "code",
   "execution_count": 19,
   "metadata": {
    "collapsed": false
   },
   "outputs": [],
   "source": [
    "with open('./Input','r') as f:\n",
    "    with open('test','w+') as f2:\n",
    "        data = f.readlines()\n",
    "        for row in data:\n",
    "            input_ = list(map(int,row.split(',')))\n",
    "            output = find_max_area(input_,len(input_))\n",
    "            f2.write(str(output)+'\\n')"
   ]
  },
  {
   "cell_type": "code",
   "execution_count": 20,
   "metadata": {
    "collapsed": false
   },
   "outputs": [
    {
     "name": "stdout",
     "output_type": "stream",
     "text": [
      "__main__\n"
     ]
    }
   ],
   "source": [
    "print(__name__)"
   ]
  },
  {
   "cell_type": "code",
   "execution_count": null,
   "metadata": {
    "collapsed": true
   },
   "outputs": [],
   "source": []
  }
 ],
 "metadata": {
  "kernelspec": {
   "display_name": "Python [tfnew]",
   "language": "python",
   "name": "Python [tfnew]"
  },
  "language_info": {
   "codemirror_mode": {
    "name": "ipython",
    "version": 3
   },
   "file_extension": ".py",
   "mimetype": "text/x-python",
   "name": "python",
   "nbconvert_exporter": "python",
   "pygments_lexer": "ipython3",
   "version": "3.5.3"
  }
 },
 "nbformat": 4,
 "nbformat_minor": 0
}
